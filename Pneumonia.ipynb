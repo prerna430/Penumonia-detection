{
  "nbformat": 4,
  "nbformat_minor": 0,
  "metadata": {
    "colab": {
      "name": "Untitled20.ipynb",
      "provenance": [],
      "collapsed_sections": []
    },
    "kernelspec": {
      "name": "python3",
      "display_name": "Python 3"
    },
    "accelerator": "GPU"
  },
  "cells": [
    {
      "cell_type": "code",
      "metadata": {
        "colab": {
          "base_uri": "https://localhost:8080/"
        },
        "id": "JmJIFL4GIp81",
        "outputId": "a0012512-ba7e-4db6-edea-932d7cc5c113"
      },
      "source": [
        "from google.colab import drive\n",
        "drive.mount('/content/gdrive')"
      ],
      "execution_count": 4,
      "outputs": [
        {
          "output_type": "stream",
          "text": [
            "Mounted at /content/gdrive\n"
          ],
          "name": "stdout"
        }
      ]
    },
    {
      "cell_type": "code",
      "metadata": {
        "id": "FDjSxd5VIuGh"
      },
      "source": [
        "import tensorflow as tf"
      ],
      "execution_count": 14,
      "outputs": []
    },
    {
      "cell_type": "code",
      "metadata": {
        "id": "4qxTRvlpJdbG"
      },
      "source": [
        "import tensorflow as tf\n",
        "from tensorflow.keras.preprocessing.image import ImageDataGenerator"
      ],
      "execution_count": 5,
      "outputs": []
    },
    {
      "cell_type": "code",
      "metadata": {
        "colab": {
          "base_uri": "https://localhost:8080/",
          "height": 35
        },
        "id": "JqNl55PlJt-X",
        "outputId": "76e0b236-5ce4-4775-c7f5-759297c78359"
      },
      "source": [
        "tf.__version__"
      ],
      "execution_count": 6,
      "outputs": [
        {
          "output_type": "execute_result",
          "data": {
            "application/vnd.google.colaboratory.intrinsic+json": {
              "type": "string"
            },
            "text/plain": [
              "'2.3.0'"
            ]
          },
          "metadata": {
            "tags": []
          },
          "execution_count": 6
        }
      ]
    },
    {
      "cell_type": "code",
      "metadata": {
        "id": "LlSFM68hJ096"
      },
      "source": [
        "train_datagen = ImageDataGenerator(rescale = 1./255,\n",
        "                                   shear_range = 0.2,\n",
        "                                   zoom_range = 0.2,\n",
        "                                   horizontal_flip = True)"
      ],
      "execution_count": 7,
      "outputs": []
    },
    {
      "cell_type": "code",
      "metadata": {
        "colab": {
          "base_uri": "https://localhost:8080/"
        },
        "id": "TiDKmovKKKRH",
        "outputId": "9890bc07-c65a-45af-b735-76826a49c055"
      },
      "source": [
        "training_set = train_datagen.flow_from_directory('/content/gdrive/MyDrive/Deep Learning/xray/xray_dataset_covid19/train',\n",
        "                                                 target_size = (64, 64),\n",
        "                                                 batch_size = 32,\n",
        "                                                 class_mode = 'binary')\n",
        "test_datagen = ImageDataGenerator(rescale = 1./255)\n",
        "test_set = test_datagen.flow_from_directory('/content/gdrive/MyDrive/Deep Learning/xray/xray_dataset_covid19/test',\n",
        "                                            target_size = (64, 64),\n",
        "                                            batch_size = 32,\n",
        "                                            class_mode = 'binary')"
      ],
      "execution_count": 9,
      "outputs": [
        {
          "output_type": "stream",
          "text": [
            "Found 153 images belonging to 2 classes.\n",
            "Found 40 images belonging to 2 classes.\n"
          ],
          "name": "stdout"
        }
      ]
    },
    {
      "cell_type": "code",
      "metadata": {
        "id": "WKhYS8fLKjd-"
      },
      "source": [
        "from tensorflow.keras.layers import Conv2D"
      ],
      "execution_count": 10,
      "outputs": []
    },
    {
      "cell_type": "code",
      "metadata": {
        "id": "AKc58cGeKyao"
      },
      "source": [
        "cnn = tf.keras.models.Sequential()\n",
        "\n",
        "# Step 1 - Convolution\n",
        "cnn.add(tf.keras.layers.Conv2D(filters=32,padding=\"same\",kernel_size=3, activation='relu', input_shape=[64, 64, 3]))\n",
        "\n",
        "# Step 2 - Pooling\n",
        "cnn.add(tf.keras.layers.MaxPool2D(pool_size=2, strides=2))\n",
        "\n",
        "# Adding a second convolutional layer\n",
        "cnn.add(tf.keras.layers.Conv2D(filters=32,padding='same',kernel_size=3, activation='relu'))\n",
        "cnn.add(tf.keras.layers.MaxPool2D(pool_size=2, strides=2))\n",
        "\n",
        "# Step 3 - Flattening\n",
        "cnn.add(tf.keras.layers.Flatten())\n",
        "\n",
        "# Step 4 - Full Connection\n",
        "cnn.add(tf.keras.layers.Dense(units=128, activation='relu'))\n",
        "\n",
        "# Step 5 - Output Layer\n",
        "cnn.add(tf.keras.layers.Dense(units=1, activation='sigmoid'))"
      ],
      "execution_count": 11,
      "outputs": []
    },
    {
      "cell_type": "code",
      "metadata": {
        "colab": {
          "base_uri": "https://localhost:8080/"
        },
        "id": "GAXGuQGhK4n0",
        "outputId": "deb74383-1197-474b-c718-ea19507cdff6"
      },
      "source": [
        "cnn.summary()\n"
      ],
      "execution_count": 12,
      "outputs": [
        {
          "output_type": "stream",
          "text": [
            "Model: \"sequential\"\n",
            "_________________________________________________________________\n",
            "Layer (type)                 Output Shape              Param #   \n",
            "=================================================================\n",
            "conv2d (Conv2D)              (None, 64, 64, 32)        896       \n",
            "_________________________________________________________________\n",
            "max_pooling2d (MaxPooling2D) (None, 32, 32, 32)        0         \n",
            "_________________________________________________________________\n",
            "conv2d_1 (Conv2D)            (None, 32, 32, 32)        9248      \n",
            "_________________________________________________________________\n",
            "max_pooling2d_1 (MaxPooling2 (None, 16, 16, 32)        0         \n",
            "_________________________________________________________________\n",
            "flatten (Flatten)            (None, 8192)              0         \n",
            "_________________________________________________________________\n",
            "dense (Dense)                (None, 128)               1048704   \n",
            "_________________________________________________________________\n",
            "dense_1 (Dense)              (None, 1)                 129       \n",
            "=================================================================\n",
            "Total params: 1,058,977\n",
            "Trainable params: 1,058,977\n",
            "Non-trainable params: 0\n",
            "_________________________________________________________________\n"
          ],
          "name": "stdout"
        }
      ]
    },
    {
      "cell_type": "code",
      "metadata": {
        "colab": {
          "base_uri": "https://localhost:8080/"
        },
        "id": "3p-1c38KLeOe",
        "outputId": "7b442098-f276-4c18-ced8-c9a6711ea0e7"
      },
      "source": [
        "cnn.compile(optimizer = 'adam', loss = 'binary_crossentropy', metrics = ['accuracy'])\n",
        "\n",
        "# Training the CNN on the Training set and evaluating it on the Test set\n",
        "cnn.fit(x = training_set, validation_data = test_set, epochs = 30)"
      ],
      "execution_count": 13,
      "outputs": [
        {
          "output_type": "stream",
          "text": [
            "Epoch 1/30\n",
            "5/5 [==============================] - 40s 8s/step - loss: 0.8045 - accuracy: 0.4837 - val_loss: 0.6749 - val_accuracy: 0.5000\n",
            "Epoch 2/30\n",
            "5/5 [==============================] - 5s 918ms/step - loss: 0.6903 - accuracy: 0.5359 - val_loss: 0.6133 - val_accuracy: 1.0000\n",
            "Epoch 3/30\n",
            "5/5 [==============================] - 5s 908ms/step - loss: 0.6391 - accuracy: 0.7582 - val_loss: 0.5395 - val_accuracy: 0.8250\n",
            "Epoch 4/30\n",
            "5/5 [==============================] - 5s 943ms/step - loss: 0.5965 - accuracy: 0.7255 - val_loss: 0.3848 - val_accuracy: 0.9750\n",
            "Epoch 5/30\n",
            "5/5 [==============================] - 4s 893ms/step - loss: 0.5084 - accuracy: 0.8039 - val_loss: 0.2299 - val_accuracy: 0.9750\n",
            "Epoch 6/30\n",
            "5/5 [==============================] - 5s 1s/step - loss: 0.4296 - accuracy: 0.8301 - val_loss: 0.1431 - val_accuracy: 0.9750\n",
            "Epoch 7/30\n",
            "5/5 [==============================] - 5s 941ms/step - loss: 0.4100 - accuracy: 0.8170 - val_loss: 0.1151 - val_accuracy: 0.9750\n",
            "Epoch 8/30\n",
            "5/5 [==============================] - 5s 949ms/step - loss: 0.3927 - accuracy: 0.8235 - val_loss: 0.0970 - val_accuracy: 0.9750\n",
            "Epoch 9/30\n",
            "5/5 [==============================] - 5s 996ms/step - loss: 0.3098 - accuracy: 0.8954 - val_loss: 0.0974 - val_accuracy: 0.9750\n",
            "Epoch 10/30\n",
            "5/5 [==============================] - 5s 1s/step - loss: 0.2915 - accuracy: 0.8889 - val_loss: 0.1239 - val_accuracy: 0.9500\n",
            "Epoch 11/30\n",
            "5/5 [==============================] - 4s 870ms/step - loss: 0.2628 - accuracy: 0.8824 - val_loss: 0.0864 - val_accuracy: 1.0000\n",
            "Epoch 12/30\n",
            "5/5 [==============================] - 5s 955ms/step - loss: 0.2147 - accuracy: 0.9150 - val_loss: 0.0758 - val_accuracy: 1.0000\n",
            "Epoch 13/30\n",
            "5/5 [==============================] - 5s 935ms/step - loss: 0.2449 - accuracy: 0.9085 - val_loss: 0.1473 - val_accuracy: 0.9250\n",
            "Epoch 14/30\n",
            "5/5 [==============================] - 5s 967ms/step - loss: 0.2226 - accuracy: 0.9216 - val_loss: 0.0577 - val_accuracy: 1.0000\n",
            "Epoch 15/30\n",
            "5/5 [==============================] - 5s 931ms/step - loss: 0.2096 - accuracy: 0.9412 - val_loss: 0.0822 - val_accuracy: 0.9750\n",
            "Epoch 16/30\n",
            "5/5 [==============================] - 5s 998ms/step - loss: 0.1507 - accuracy: 0.9477 - val_loss: 0.0539 - val_accuracy: 1.0000\n",
            "Epoch 17/30\n",
            "5/5 [==============================] - 4s 854ms/step - loss: 0.1181 - accuracy: 0.9608 - val_loss: 0.0649 - val_accuracy: 0.9750\n",
            "Epoch 18/30\n",
            "5/5 [==============================] - 5s 956ms/step - loss: 0.1498 - accuracy: 0.9477 - val_loss: 0.0768 - val_accuracy: 0.9500\n",
            "Epoch 19/30\n",
            "5/5 [==============================] - 5s 915ms/step - loss: 0.1328 - accuracy: 0.9477 - val_loss: 0.0619 - val_accuracy: 1.0000\n",
            "Epoch 20/30\n",
            "5/5 [==============================] - 5s 914ms/step - loss: 0.1195 - accuracy: 0.9739 - val_loss: 0.0511 - val_accuracy: 1.0000\n",
            "Epoch 21/30\n",
            "5/5 [==============================] - 5s 946ms/step - loss: 0.1061 - accuracy: 0.9673 - val_loss: 0.0475 - val_accuracy: 1.0000\n",
            "Epoch 22/30\n",
            "5/5 [==============================] - 4s 831ms/step - loss: 0.1576 - accuracy: 0.9412 - val_loss: 0.0483 - val_accuracy: 1.0000\n",
            "Epoch 23/30\n",
            "5/5 [==============================] - 5s 917ms/step - loss: 0.1497 - accuracy: 0.9477 - val_loss: 0.1268 - val_accuracy: 0.9250\n",
            "Epoch 24/30\n",
            "5/5 [==============================] - 5s 957ms/step - loss: 0.1418 - accuracy: 0.9346 - val_loss: 0.0317 - val_accuracy: 1.0000\n",
            "Epoch 25/30\n",
            "5/5 [==============================] - 5s 1s/step - loss: 0.1181 - accuracy: 0.9608 - val_loss: 0.0811 - val_accuracy: 0.9500\n",
            "Epoch 26/30\n",
            "5/5 [==============================] - 5s 928ms/step - loss: 0.1044 - accuracy: 0.9673 - val_loss: 0.0534 - val_accuracy: 0.9500\n",
            "Epoch 27/30\n",
            "5/5 [==============================] - 5s 905ms/step - loss: 0.1011 - accuracy: 0.9804 - val_loss: 0.0353 - val_accuracy: 1.0000\n",
            "Epoch 28/30\n",
            "5/5 [==============================] - 4s 889ms/step - loss: 0.0832 - accuracy: 0.9673 - val_loss: 0.0613 - val_accuracy: 0.9500\n",
            "Epoch 29/30\n",
            "5/5 [==============================] - 5s 935ms/step - loss: 0.0620 - accuracy: 0.9869 - val_loss: 0.0397 - val_accuracy: 1.0000\n",
            "Epoch 30/30\n",
            "5/5 [==============================] - 5s 933ms/step - loss: 0.1077 - accuracy: 0.9739 - val_loss: 0.0304 - val_accuracy: 1.0000\n"
          ],
          "name": "stdout"
        },
        {
          "output_type": "execute_result",
          "data": {
            "text/plain": [
              "<tensorflow.python.keras.callbacks.History at 0x7f50177b1ba8>"
            ]
          },
          "metadata": {
            "tags": []
          },
          "execution_count": 13
        }
      ]
    },
    {
      "cell_type": "code",
      "metadata": {
        "id": "k918YPwxXcB6"
      },
      "source": [
        "\n",
        "# save it as a h5 file\n",
        "\n",
        "\n",
        "from tensorflow.keras.models import load_model\n",
        "\n",
        "cnn.save('covid.h5')\n",
        "model = load_model('covid.h5')"
      ],
      "execution_count": 14,
      "outputs": []
    },
    {
      "cell_type": "code",
      "metadata": {
        "id": "cOZHK_diOAuV"
      },
      "source": [
        "\n",
        "import numpy as np\n",
        "from tensorflow.keras.preprocessing import image\n",
        "test_image = image.load_img('/content/download.jpg', target_size = (64,64))\n",
        "test_image = image.img_to_array(test_image)\n",
        "test_image=test_image/255\n",
        "test_image = np.expand_dims(test_image, axis = 0)\n",
        "result = cnn.predict(test_image)"
      ],
      "execution_count": 27,
      "outputs": []
    },
    {
      "cell_type": "code",
      "metadata": {
        "colab": {
          "base_uri": "https://localhost:8080/"
        },
        "id": "iCImbguCXUy_",
        "outputId": "574c58c0-b66f-4a18-cd5c-c59de58d56e4"
      },
      "source": [
        "result\n"
      ],
      "execution_count": 28,
      "outputs": [
        {
          "output_type": "execute_result",
          "data": {
            "text/plain": [
              "array([[0.9497281]], dtype=float32)"
            ]
          },
          "metadata": {
            "tags": []
          },
          "execution_count": 28
        }
      ]
    },
    {
      "cell_type": "code",
      "metadata": {
        "colab": {
          "base_uri": "https://localhost:8080/"
        },
        "id": "m_EBDNccXVQR",
        "outputId": "c227e500-9819-4230-939f-286d8bc94c8d"
      },
      "source": [
        "if result[0][0]<=0.5:\n",
        "    print(\"The person is normal\")\n",
        "else:\n",
        "    print(\"The person has  pneumonia and traces of having covid are visible.\")"
      ],
      "execution_count": 29,
      "outputs": [
        {
          "output_type": "stream",
          "text": [
            "The person has  pneumonia\n"
          ],
          "name": "stdout"
        }
      ]
    },
    {
      "cell_type": "code",
      "metadata": {
        "id": "NfDXcmruZ_el"
      },
      "source": [
        ""
      ],
      "execution_count": null,
      "outputs": []
    }
  ]
}
